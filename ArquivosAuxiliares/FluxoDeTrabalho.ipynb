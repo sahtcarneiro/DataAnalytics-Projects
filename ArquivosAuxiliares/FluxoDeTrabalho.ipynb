{
  "nbformat": 4,
  "nbformat_minor": 0,
  "metadata": {
    "colab": {
      "provenance": [],
      "collapsed_sections": [
        "jtf9C-2lztRy",
        "1J_bHlTG0UPq",
        "L7abbfpEBjvV",
        "XFqxd5w9BVyu",
        "APBO1npC5Z0A",
        "2C84FQSL5rKH",
        "V8o30jvA52NX",
        "3yU0J9uX59wv",
        "L80z5OfJ6E8Y",
        "76D30cfhDUlC"
      ]
    },
    "kernelspec": {
      "name": "python3",
      "display_name": "Python 3"
    },
    "language_info": {
      "name": "python"
    }
  },
  "cells": [
    {
      "cell_type": "markdown",
      "source": [
        "# Fluxo de Trabalho\n",
        "Esqueleto sugerido para o processo de análise de dados."
      ],
      "metadata": {
        "id": "jtf9C-2lztRy"
      }
    },
    {
      "cell_type": "markdown",
      "source": [
        "Observação:   \n",
        "Esse modelo é uma base, e algumas etapas podem não ser aplicáveis a sua análise em específico. Considerando isso avalie bem quais processos são necessários e compatíveis com o seu caso. "
      ],
      "metadata": {
        "id": "0d7HJmppAMFe"
      }
    },
    {
      "cell_type": "markdown",
      "source": [
        "Como usar:   \n",
        "Você pode criar uma cópia deste arquivo e usar essa cópia para seguir o passo a passo de desenvolvimento no seu projeto, ou simplesmente usá-lo como um direcionamento mental para se guiar no seu projeto pessoal."
      ],
      "metadata": {
        "id": "0yhs0UZ_6sUQ"
      }
    },
    {
      "cell_type": "markdown",
      "source": [
        "# Autor\n",
        "Jonathas Carneiro"
      ],
      "metadata": {
        "id": "VBn6XAOB7CtQ"
      }
    },
    {
      "cell_type": "markdown",
      "source": [
        "# ETL\n",
        "Extração, transformação, carregamento e possível automação do processo de etl dos dados.\n"
      ],
      "metadata": {
        "id": "1J_bHlTG0UPq"
      }
    },
    {
      "cell_type": "markdown",
      "source": [
        "## Install e Libs\n",
        "Instalações e importações das bibliotecas necessárias para o processo de ETL."
      ],
      "metadata": {
        "id": "L7abbfpEBjvV"
      }
    },
    {
      "cell_type": "code",
      "source": [],
      "metadata": {
        "id": "8AwhoE3OB1Ne"
      },
      "execution_count": null,
      "outputs": []
    },
    {
      "cell_type": "markdown",
      "source": [
        "## Extraction\n",
        "A primeira etapa da ETL é a extração dos dados de sua fonte original. Dependendo do tipo de dados e da fonte, você pode precisar de diferentes ferramentas e técnicas para extrair os dados."
      ],
      "metadata": {
        "id": "0dZJqZvm1DES"
      }
    },
    {
      "cell_type": "code",
      "execution_count": null,
      "metadata": {
        "id": "Xm0WsextzstA"
      },
      "outputs": [],
      "source": []
    },
    {
      "cell_type": "markdown",
      "source": [
        "## Transformation\n",
        "Aqui os dados extraídos precisam ser transformados em um formato adequado para análise, e para isso deve seguir alguns passos, que podem precisar serem repetidos ao longo do processo de análise."
      ],
      "metadata": {
        "id": "VbLM1jZ51glR"
      }
    },
    {
      "cell_type": "markdown",
      "source": [
        "### Limpeza de Dados\n",
        "Remover dados duplicados, corrigir erros de digitação, tratar dados inconsistentes etc."
      ],
      "metadata": {
        "id": "2OIPr02e1w5B"
      }
    },
    {
      "cell_type": "code",
      "source": [],
      "metadata": {
        "id": "l-eoJLk92ASY"
      },
      "execution_count": null,
      "outputs": []
    },
    {
      "cell_type": "markdown",
      "source": [
        "### Normalização de Dados\n",
        "Colocar os dados em um formato padronizado para facilitar a análise."
      ],
      "metadata": {
        "id": "FG2L2jSi2Alp"
      }
    },
    {
      "cell_type": "code",
      "source": [],
      "metadata": {
        "id": "t0pQvuXU2I0x"
      },
      "execution_count": null,
      "outputs": []
    },
    {
      "cell_type": "markdown",
      "source": [
        "### Criação de Variáveis\n",
        "Criar novas variáveis com base nos dados originais para permitir uma análise mais detalhada e avançada."
      ],
      "metadata": {
        "id": "-bEZz8EE2JGS"
      }
    },
    {
      "cell_type": "code",
      "source": [],
      "metadata": {
        "id": "ZSGN7scp2XZ5"
      },
      "execution_count": null,
      "outputs": []
    },
    {
      "cell_type": "markdown",
      "source": [
        "## Load\n",
        "Depois que os dados são extraídos e transformados adequadamente, eles estarão prontos para as análise, mas antes disso eles precisam ser carregados em um local de armazenamento adequado. Podendo ser um banco de dados SQL ou NoSQL, um sistema de armazenamento em nuvem, e para o caso de disponibilizar o projeto publicamente é ideal que ele seja colocar em uma pasta de datasets, diferenciando o arquivo bruto e o tratado."
      ],
      "metadata": {
        "id": "0hT5rrbf2Xrw"
      }
    },
    {
      "cell_type": "code",
      "source": [],
      "metadata": {
        "id": "S6385Mam2kko"
      },
      "execution_count": null,
      "outputs": []
    },
    {
      "cell_type": "markdown",
      "source": [
        "## Automação ETL\n",
        "Caso seja necessário atualização dos dados, é importante também automatizar o processo de ETL para que ele possa ser repetido facilmente. Para isso você pode utilizar ferramentas de automação de fluxo de trabalho como o Apache Airflow ou mesmo scripts no shell que execute o ETL em intervalos definidos."
      ],
      "metadata": {
        "id": "JMpDq8K73Gb5"
      }
    },
    {
      "cell_type": "code",
      "source": [],
      "metadata": {
        "id": "6gLO8qPC3i75"
      },
      "execution_count": null,
      "outputs": []
    },
    {
      "cell_type": "markdown",
      "source": [
        "# EDA\n",
        "Análise exploratória de dados. É importante saber com clareza o conjunto de dados que será utilizado e ter definido qual objetivos e perguntas a serem respondidas com a análise.\n",
        "No processo de cada etapa da análise exploratório é importante fazer:\n",
        "- Descrição de dados: identificação dos tipos de variáveis, dimensões dos dados, valores extremos e estatísticas descritivas.\n",
        "- Visualização dos dados: criação de gráficos, tabelas e outros tipos de visualização para entender a distribuição e a relação entre as variáveis.\n",
        "- Identificação de padrões: identificação de padrões, tendências, correlações e outras relações entre as variáveis.\n",
        "- Testes estatísticos: aplicação de testes estatísticos para confirmar ou refutar hipóteses sobre os dados. "
      ],
      "metadata": {
        "id": "vWZSnA7a323p"
      }
    },
    {
      "cell_type": "markdown",
      "source": [
        "## Install e Libs\n",
        "Instalações e bibliotecas necessárias para a análise de dados que não haviam sido importadas anteriormente."
      ],
      "metadata": {
        "id": "61BpULdxB4eG"
      }
    },
    {
      "cell_type": "code",
      "source": [],
      "metadata": {
        "id": "qdgH_yzGCDQv"
      },
      "execution_count": null,
      "outputs": []
    },
    {
      "cell_type": "markdown",
      "source": [
        "## Preparação do Dados\n",
        "Novo processo de transformação de dados caso seja necessário fazer algo a mais para as análises a serem feitas."
      ],
      "metadata": {
        "id": "XFqxd5w9BVyu"
      }
    },
    {
      "cell_type": "code",
      "source": [],
      "metadata": {
        "id": "WOlYb1l4CbPO"
      },
      "execution_count": null,
      "outputs": []
    },
    {
      "cell_type": "markdown",
      "source": [
        "## Análise Descritiva\n",
        "- Estatísticas descritivas do conjunto de dados;\n",
        "- Distribuição das variáveis numéricas e categóricas;\n",
        "- Identificação de outliers e tratamento, se necessário"
      ],
      "metadata": {
        "id": "APBO1npC5Z0A"
      }
    },
    {
      "cell_type": "code",
      "source": [],
      "metadata": {
        "id": "7ekIeOw65qzv"
      },
      "execution_count": null,
      "outputs": []
    },
    {
      "cell_type": "markdown",
      "source": [
        "## Análise de Correlação\n",
        "- Identificação de correlação entre as variáveis;\n",
        "- Verificação de multicolinearidade;\n",
        "- Visualização de gráficos de correlação, como heatmap e pairplot"
      ],
      "metadata": {
        "id": "2C84FQSL5rKH"
      }
    },
    {
      "cell_type": "code",
      "source": [],
      "metadata": {
        "id": "pkSinflI516n"
      },
      "execution_count": null,
      "outputs": []
    },
    {
      "cell_type": "markdown",
      "source": [
        "## Análise de Grupos\n",
        "- Identificação de grupos no conjunto de dados;\n",
        "- Visualização de gráficos de dispersão e boxplot para cada grupo"
      ],
      "metadata": {
        "id": "V8o30jvA52NX"
      }
    },
    {
      "cell_type": "code",
      "source": [],
      "metadata": {
        "id": "8VQkHUhZ59Nn"
      },
      "execution_count": null,
      "outputs": []
    },
    {
      "cell_type": "markdown",
      "source": [
        "## Análise Temporal\n",
        "- Verificação de tendências temporais;\n",
        "- Visualização de gráficos de linha, barras e scatterplot para cada período de tempo\n"
      ],
      "metadata": {
        "id": "3yU0J9uX59wv"
      }
    },
    {
      "cell_type": "code",
      "source": [],
      "metadata": {
        "id": "gAJd8xn_6Emp"
      },
      "execution_count": null,
      "outputs": []
    },
    {
      "cell_type": "markdown",
      "source": [
        "## Análise Geoespacial (se aplicável)\n",
        "- Verificação de padrões geoespaciais;\n",
        "- Visualização de mapas e gráficos de pontos para cada localização"
      ],
      "metadata": {
        "id": "L80z5OfJ6E8Y"
      }
    },
    {
      "cell_type": "code",
      "source": [],
      "metadata": {
        "id": "qv_M2VdPCgEV"
      },
      "execution_count": null,
      "outputs": []
    },
    {
      "cell_type": "markdown",
      "source": [
        "## Conclusão da EDA\n",
        "Resumo das principais conclusões e insights obtidos a partir da análise exploratória, sugestões para próximos passos da análise ou possíveis ações a serem tomadas."
      ],
      "metadata": {
        "id": "mGQ05qUq6O-Q"
      }
    },
    {
      "cell_type": "markdown",
      "source": [
        "# Modelagem e Predição de Dados\n",
        "É preciso ter em mente qual objetivo e qual problema será abordado na modelagem e predição, é importante explicar o modelo escolhido para abordar o problema e a métrica escolhida para avaliar o desempenho do modelo."
      ],
      "metadata": {
        "id": "WxU9nSEKCma-"
      }
    },
    {
      "cell_type": "markdown",
      "source": [
        "## Install e Libs\n",
        "Instalações e bibliotecas necessárias para a análise de dados que não haviam sido importadas anteriormente."
      ],
      "metadata": {
        "id": "76D30cfhDUlC"
      }
    },
    {
      "cell_type": "code",
      "source": [],
      "metadata": {
        "id": "smSEsAVCDVk-"
      },
      "execution_count": null,
      "outputs": []
    },
    {
      "cell_type": "markdown",
      "source": [
        "## Preparação do Dados\n",
        "Novo processo de transformação de dados caso seja necessário fazer algo a mais para a modelagem e predições a serem feitas, além de dividir os dados em conjuntos de treino e conjunto de testes."
      ],
      "metadata": {
        "id": "xlvFcUzPDakW"
      }
    },
    {
      "cell_type": "code",
      "source": [],
      "metadata": {
        "id": "jvolQ7gUDakX"
      },
      "execution_count": null,
      "outputs": []
    },
    {
      "cell_type": "markdown",
      "source": [
        "## Modelagem\n",
        "- Escolher o modelo a ser utilizado;\n",
        "- Treiná-lo com o conjunto de treino;\n",
        "- Validá-lo com o conjunto de testes;\n",
        "- Caso preciso otimizar os hiperparâmetros do modelo"
      ],
      "metadata": {
        "id": "6Ky66zJrD1bt"
      }
    },
    {
      "cell_type": "code",
      "source": [],
      "metadata": {
        "id": "j2zXhJ32EeRV"
      },
      "execution_count": null,
      "outputs": []
    },
    {
      "cell_type": "markdown",
      "source": [
        "## Avaliação do Modelo\n",
        "- Avaliação do desempenho do modelo com a métrica escolhida;\n",
        "- Análise de viés e variância do modelo;\n",
        "- Análise da importância das variáveis no modelo"
      ],
      "metadata": {
        "id": "cDMZGjw3EenV"
      }
    },
    {
      "cell_type": "code",
      "source": [],
      "metadata": {
        "id": "_HKtaV08Ept-"
      },
      "execution_count": null,
      "outputs": []
    },
    {
      "cell_type": "markdown",
      "source": [
        "## Predição\n",
        "Utilização do modelo treinado para fazer predição de novos dados.\n",
        "- Análise e interpretação dos resultados da predição."
      ],
      "metadata": {
        "id": "-ChCZ0BWEqRF"
      }
    },
    {
      "cell_type": "code",
      "source": [],
      "metadata": {
        "id": "9W1c_FmYE4_V"
      },
      "execution_count": null,
      "outputs": []
    },
    {
      "cell_type": "markdown",
      "source": [
        "## Conclusão da Modelagem e Predição de Dados\n",
        "Resumo das principais conclusões e insights obtidos. Assim como sugestões para próximos passos, como ajustes no modelo, coleta de mais dados ou ações a serem tomadas com base nas predições realizadas."
      ],
      "metadata": {
        "id": "7ckXop-nE5QF"
      }
    }
  ]
}